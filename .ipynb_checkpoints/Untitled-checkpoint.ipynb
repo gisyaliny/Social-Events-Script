{
 "cells": [
  {
   "cell_type": "markdown",
   "metadata": {
    "toc": true
   },
   "source": [
    "<h1>Table of Contents<span class=\"tocSkip\"></span></h1>\n",
    "<div class=\"toc\"><ul class=\"toc-item\"><li><span><a href=\"#Pre-processing-Dataset\" data-toc-modified-id=\"Pre-processing-Dataset-1\"><span class=\"toc-item-num\">1&nbsp;&nbsp;</span>Pre-processing Dataset</a></span><ul class=\"toc-item\"><li><span><a href=\"#Check-the-frequency\" data-toc-modified-id=\"Check-the-frequency-1.1\"><span class=\"toc-item-num\">1.1&nbsp;&nbsp;</span>Check the frequency</a></span></li><li><span><a href=\"#Save-as-different-table\" data-toc-modified-id=\"Save-as-different-table-1.2\"><span class=\"toc-item-num\">1.2&nbsp;&nbsp;</span>Save as different table</a></span></li><li><span><a href=\"#Tansfer-to-shapefile\" data-toc-modified-id=\"Tansfer-to-shapefile-1.3\"><span class=\"toc-item-num\">1.3&nbsp;&nbsp;</span>Tansfer to shapefile</a></span></li></ul></li></ul></div>"
   ]
  },
  {
   "cell_type": "code",
   "execution_count": 1,
   "metadata": {},
   "outputs": [],
   "source": [
    "import geopandas as gpd\n",
    "import pandas as pd\n",
    "import matplotlib.pyplot as plt\n",
    "plt.rcParams['figure.figsize'] = [15, 12]"
   ]
  },
  {
   "cell_type": "code",
   "execution_count": 2,
   "metadata": {},
   "outputs": [],
   "source": [
    "import sys\n",
    "sys.path.append('Script')\n",
    "import functions"
   ]
  },
  {
   "cell_type": "code",
   "execution_count": 3,
   "metadata": {},
   "outputs": [
    {
     "data": {
      "text/html": [
       "<div>\n",
       "<style scoped>\n",
       "    .dataframe tbody tr th:only-of-type {\n",
       "        vertical-align: middle;\n",
       "    }\n",
       "\n",
       "    .dataframe tbody tr th {\n",
       "        vertical-align: top;\n",
       "    }\n",
       "\n",
       "    .dataframe thead th {\n",
       "        text-align: right;\n",
       "    }\n",
       "</style>\n",
       "<table border=\"1\" class=\"dataframe\">\n",
       "  <thead>\n",
       "    <tr style=\"text-align: right;\">\n",
       "      <th></th>\n",
       "      <th>Category</th>\n",
       "      <th>Group</th>\n",
       "      <th>Name</th>\n",
       "      <th>POI</th>\n",
       "      <th>Place</th>\n",
       "      <th>URL</th>\n",
       "      <th>Host By</th>\n",
       "      <th>Address</th>\n",
       "      <th>Description</th>\n",
       "      <th>Key Words</th>\n",
       "      <th>...</th>\n",
       "      <th>Lat</th>\n",
       "      <th>Long</th>\n",
       "      <th>Date</th>\n",
       "      <th>Start_Time</th>\n",
       "      <th>End_Time</th>\n",
       "      <th>Location</th>\n",
       "      <th>Types</th>\n",
       "      <th>start_timeRange</th>\n",
       "      <th>end_timeRange</th>\n",
       "      <th>weekdays</th>\n",
       "    </tr>\n",
       "  </thead>\n",
       "  <tbody>\n",
       "    <tr>\n",
       "      <th>0</th>\n",
       "      <td>Arts</td>\n",
       "      <td>Art With Intention</td>\n",
       "      <td>Beginners Salsa /Bachata Classes!</td>\n",
       "      <td>2801 Forest Ridge Dr</td>\n",
       "      <td>2801 Forest Ridge Dr · Bedford, TX</td>\n",
       "      <td>https://www.meetup.com/stepup/events/msdlnrybc...</td>\n",
       "      <td>Kane (My Salsa Dance S.</td>\n",
       "      <td>Bedford, TX, us</td>\n",
       "      <td>Mon, Mar 9, 2020, 7:00 PM: Hi Friends,New Clas...</td>\n",
       "      <td>Musicians,Artists,Performing Arts,Models,Songw...</td>\n",
       "      <td>...</td>\n",
       "      <td>32.850033</td>\n",
       "      <td>-97.144920</td>\n",
       "      <td>2020-03-09</td>\n",
       "      <td>7:00 PM</td>\n",
       "      <td>9:00 PM</td>\n",
       "      <td>32.850032806396484;-97.1449203491211</td>\n",
       "      <td>Weekly events</td>\n",
       "      <td>38</td>\n",
       "      <td>42</td>\n",
       "      <td>0</td>\n",
       "    </tr>\n",
       "    <tr>\n",
       "      <th>1</th>\n",
       "      <td>Arts</td>\n",
       "      <td>Art With Intention</td>\n",
       "      <td>Beginners Salsa /Bachata Classes!</td>\n",
       "      <td>2801 Forest Ridge Dr</td>\n",
       "      <td>2801 Forest Ridge Dr · Bedford, TX</td>\n",
       "      <td>https://www.meetup.com/stepup/events/msdlnrybc...</td>\n",
       "      <td>Kane (My Salsa Dance S.</td>\n",
       "      <td>Bedford, TX, us</td>\n",
       "      <td>Mon, Mar 16, 2020, 7:00 PM: Hi Friends,New Cla...</td>\n",
       "      <td>Musicians,Artists,Performing Arts,Models,Songw...</td>\n",
       "      <td>...</td>\n",
       "      <td>32.850033</td>\n",
       "      <td>-97.144920</td>\n",
       "      <td>2020-03-16</td>\n",
       "      <td>7:00 PM</td>\n",
       "      <td>9:00 PM</td>\n",
       "      <td>32.850032806396484;-97.1449203491211</td>\n",
       "      <td>Weekly events</td>\n",
       "      <td>38</td>\n",
       "      <td>42</td>\n",
       "      <td>0</td>\n",
       "    </tr>\n",
       "    <tr>\n",
       "      <th>2</th>\n",
       "      <td>Arts</td>\n",
       "      <td>Art With Intention</td>\n",
       "      <td>Beginners Salsa /Bachata Classes!</td>\n",
       "      <td>2801 Forest Ridge Dr</td>\n",
       "      <td>2801 Forest Ridge Dr · Bedford, TX</td>\n",
       "      <td>https://www.meetup.com/stepup/events/msdlnrybc...</td>\n",
       "      <td>Kane (My Salsa Dance S.</td>\n",
       "      <td>Bedford, TX, us</td>\n",
       "      <td>Mon, Mar 23, 2020, 7:00 PM: Hi Friends,New Cla...</td>\n",
       "      <td>Musicians,Artists,Performing Arts,Models,Songw...</td>\n",
       "      <td>...</td>\n",
       "      <td>32.850033</td>\n",
       "      <td>-97.144920</td>\n",
       "      <td>2020-03-23</td>\n",
       "      <td>7:00 PM</td>\n",
       "      <td>9:00 PM</td>\n",
       "      <td>32.850032806396484;-97.1449203491211</td>\n",
       "      <td>Weekly events</td>\n",
       "      <td>38</td>\n",
       "      <td>42</td>\n",
       "      <td>0</td>\n",
       "    </tr>\n",
       "    <tr>\n",
       "      <th>3</th>\n",
       "      <td>Arts</td>\n",
       "      <td>Art With Intention</td>\n",
       "      <td>Beginners Salsa /Bachata Classes!</td>\n",
       "      <td>2801 Forest Ridge Dr</td>\n",
       "      <td>2801 Forest Ridge Dr · Bedford, TX</td>\n",
       "      <td>https://www.meetup.com/stepup/events/msdlnrybc...</td>\n",
       "      <td>Kane (My Salsa Dance S.</td>\n",
       "      <td>Bedford, TX, us</td>\n",
       "      <td>Mon, Mar 30, 2020, 7:00 PM: Hi Friends,New Cla...</td>\n",
       "      <td>Musicians,Artists,Performing Arts,Models,Songw...</td>\n",
       "      <td>...</td>\n",
       "      <td>32.850033</td>\n",
       "      <td>-97.144920</td>\n",
       "      <td>2020-03-30</td>\n",
       "      <td>7:00 PM</td>\n",
       "      <td>9:00 PM</td>\n",
       "      <td>32.850032806396484;-97.1449203491211</td>\n",
       "      <td>Weekly events</td>\n",
       "      <td>38</td>\n",
       "      <td>42</td>\n",
       "      <td>0</td>\n",
       "    </tr>\n",
       "    <tr>\n",
       "      <th>4</th>\n",
       "      <td>Arts</td>\n",
       "      <td>ArtSpace at Metropolitan Press</td>\n",
       "      <td>Metropolitan Press ArtSpace March Reception: Y...</td>\n",
       "      <td>ArtSpace Metropolitan Press</td>\n",
       "      <td>1250 Majesty Drive · Dallas, TX</td>\n",
       "      <td>https://www.meetup.com/ArtSpace-at-Metropolita...</td>\n",
       "      <td>Karen T.</td>\n",
       "      <td>Dallas, TX, us</td>\n",
       "      <td>Thu, Mar 5, 2020, 5:00 PM: Metropolitan’s Marc...</td>\n",
       "      <td>Photography,Art,Group Art,Creative Circle,Fine...</td>\n",
       "      <td>...</td>\n",
       "      <td>32.826092</td>\n",
       "      <td>-96.876396</td>\n",
       "      <td>2020-03-05</td>\n",
       "      <td>5:00 PM</td>\n",
       "      <td>8:00 PM</td>\n",
       "      <td>32.82609176635742;-96.87639617919922</td>\n",
       "      <td>One Time events</td>\n",
       "      <td>34</td>\n",
       "      <td>40</td>\n",
       "      <td>3</td>\n",
       "    </tr>\n",
       "  </tbody>\n",
       "</table>\n",
       "<p>5 rows × 24 columns</p>\n",
       "</div>"
      ],
      "text/plain": [
       "  Category                           Group  \\\n",
       "0     Arts              Art With Intention   \n",
       "1     Arts              Art With Intention   \n",
       "2     Arts              Art With Intention   \n",
       "3     Arts              Art With Intention   \n",
       "4     Arts  ArtSpace at Metropolitan Press   \n",
       "\n",
       "                                                Name  \\\n",
       "0                  Beginners Salsa /Bachata Classes!   \n",
       "1                  Beginners Salsa /Bachata Classes!   \n",
       "2                  Beginners Salsa /Bachata Classes!   \n",
       "3                  Beginners Salsa /Bachata Classes!   \n",
       "4  Metropolitan Press ArtSpace March Reception: Y...   \n",
       "\n",
       "                           POI                               Place  \\\n",
       "0         2801 Forest Ridge Dr  2801 Forest Ridge Dr · Bedford, TX   \n",
       "1         2801 Forest Ridge Dr  2801 Forest Ridge Dr · Bedford, TX   \n",
       "2         2801 Forest Ridge Dr  2801 Forest Ridge Dr · Bedford, TX   \n",
       "3         2801 Forest Ridge Dr  2801 Forest Ridge Dr · Bedford, TX   \n",
       "4  ArtSpace Metropolitan Press     1250 Majesty Drive · Dallas, TX   \n",
       "\n",
       "                                                 URL                  Host By  \\\n",
       "0  https://www.meetup.com/stepup/events/msdlnrybc...  Kane (My Salsa Dance S.   \n",
       "1  https://www.meetup.com/stepup/events/msdlnrybc...  Kane (My Salsa Dance S.   \n",
       "2  https://www.meetup.com/stepup/events/msdlnrybc...  Kane (My Salsa Dance S.   \n",
       "3  https://www.meetup.com/stepup/events/msdlnrybc...  Kane (My Salsa Dance S.   \n",
       "4  https://www.meetup.com/ArtSpace-at-Metropolita...                 Karen T.   \n",
       "\n",
       "           Address                                        Description  \\\n",
       "0  Bedford, TX, us  Mon, Mar 9, 2020, 7:00 PM: Hi Friends,New Clas...   \n",
       "1  Bedford, TX, us  Mon, Mar 16, 2020, 7:00 PM: Hi Friends,New Cla...   \n",
       "2  Bedford, TX, us  Mon, Mar 23, 2020, 7:00 PM: Hi Friends,New Cla...   \n",
       "3  Bedford, TX, us  Mon, Mar 30, 2020, 7:00 PM: Hi Friends,New Cla...   \n",
       "4   Dallas, TX, us  Thu, Mar 5, 2020, 5:00 PM: Metropolitan’s Marc...   \n",
       "\n",
       "                                           Key Words  ...        Lat  \\\n",
       "0  Musicians,Artists,Performing Arts,Models,Songw...  ...  32.850033   \n",
       "1  Musicians,Artists,Performing Arts,Models,Songw...  ...  32.850033   \n",
       "2  Musicians,Artists,Performing Arts,Models,Songw...  ...  32.850033   \n",
       "3  Musicians,Artists,Performing Arts,Models,Songw...  ...  32.850033   \n",
       "4  Photography,Art,Group Art,Creative Circle,Fine...  ...  32.826092   \n",
       "\n",
       "        Long       Date Start_Time  End_Time  \\\n",
       "0 -97.144920 2020-03-09   7:00 PM    9:00 PM   \n",
       "1 -97.144920 2020-03-16   7:00 PM    9:00 PM   \n",
       "2 -97.144920 2020-03-23   7:00 PM    9:00 PM   \n",
       "3 -97.144920 2020-03-30   7:00 PM    9:00 PM   \n",
       "4 -96.876396 2020-03-05   5:00 PM    8:00 PM   \n",
       "\n",
       "                               Location            Types start_timeRange  \\\n",
       "0  32.850032806396484;-97.1449203491211    Weekly events              38   \n",
       "1  32.850032806396484;-97.1449203491211    Weekly events              38   \n",
       "2  32.850032806396484;-97.1449203491211    Weekly events              38   \n",
       "3  32.850032806396484;-97.1449203491211    Weekly events              38   \n",
       "4  32.82609176635742;-96.87639617919922  One Time events              34   \n",
       "\n",
       "  end_timeRange weekdays  \n",
       "0            42        0  \n",
       "1            42        0  \n",
       "2            42        0  \n",
       "3            42        0  \n",
       "4            40        3  \n",
       "\n",
       "[5 rows x 24 columns]"
      ]
     },
     "execution_count": 3,
     "metadata": {},
     "output_type": "execute_result"
    }
   ],
   "source": [
    "df = pd.read_excel('Classified_events.xlsx')\n",
    "df = functions.drop_na(df)\n",
    "df.head()"
   ]
  },
  {
   "cell_type": "markdown",
   "metadata": {},
   "source": [
    "## Pre-processing Dataset"
   ]
  },
  {
   "cell_type": "markdown",
   "metadata": {},
   "source": [
    "### Check the frequency"
   ]
  },
  {
   "cell_type": "code",
   "execution_count": 4,
   "metadata": {},
   "outputs": [
    {
     "data": {
      "image/png": "[encoded data removed]",
      "text/plain": [
       "<Figure size 1440x720 with 1 Axes>"
      ]
     },
     "metadata": {
      "needs_background": "light"
     },
     "output_type": "display_data"
    }
   ],
   "source": [
    "df1 = df.replace(['Arts', 'Beliefs', 'Book Clubs', 'Career & Business', 'Dance',\n",
    "       'Family', 'Fashion & Beauty', 'Film', 'Food & Drink',\n",
    "       'Health & Wellness', 'Hobbies & Crafts', 'Language & Culture',\n",
    "       'Learning', 'LGBTQ', 'Movements', 'Music', 'Outdoors & Adventure',\n",
    "       'Pets', 'Photography', 'Sci-Fi & Games', 'Social',\n",
    "       'Sports & Fitness', 'Tech', 'Writing'],['At','Bf','Bk','C&B','Dc','Fy','F&B','Fm','F&D','H&W','H&C','L&C',\n",
    "                                              'Le','LG','Mt','Mu','O&A','Pt','Py','S&C','Sl','S&F','T','Wt'])\n",
    "\n",
    "plt.figure(figsize=(20, 10))\n",
    "plt.bar(df1['Category'].value_counts().index,df1['Category'].value_counts())\n",
    "plt.title('Events Count\\n', fontsize=20)\n",
    "plt.xlabel('Category', fontsize=18)\n",
    "plt.ylabel('Count', fontsize=18)\n",
    "\n",
    "plt.show()"
   ]
  },
  {
   "cell_type": "markdown",
   "metadata": {},
   "source": [
    "### Save as different table"
   ]
  },
  {
   "cell_type": "code",
   "execution_count": 5,
   "metadata": {},
   "outputs": [],
   "source": [
    "import os\n",
    "output_path = '../Data/Social-Events'"
   ]
  },
  {
   "cell_type": "code",
   "execution_count": 6,
   "metadata": {},
   "outputs": [
    {
     "name": "stdout",
     "output_type": "stream",
     "text": [
      "../Data/Social-Events\\Food & Drink.xlsx\n",
      "../Data/Social-Events\\Career & Business.xlsx\n",
      "../Data/Social-Events\\Beliefs.xlsx\n",
      "../Data/Social-Events\\Health & Wellness.xlsx\n",
      "../Data/Social-Events\\Book Clubs.xlsx\n",
      "../Data/Social-Events\\Music.xlsx\n",
      "../Data/Social-Events\\Film.xlsx\n",
      "../Data/Social-Events\\Tech.xlsx\n",
      "../Data/Social-Events\\Movements.xlsx\n",
      "../Data/Social-Events\\Fashion & Beauty.xlsx\n",
      "../Data/Social-Events\\Arts.xlsx\n",
      "../Data/Social-Events\\Dance.xlsx\n",
      "../Data/Social-Events\\LGBTQ.xlsx\n",
      "../Data/Social-Events\\Pets.xlsx\n",
      "../Data/Social-Events\\Language & Culture.xlsx\n",
      "../Data/Social-Events\\Family.xlsx\n",
      "../Data/Social-Events\\Sci-Fi & Games.xlsx\n",
      "../Data/Social-Events\\Writing.xlsx\n",
      "../Data/Social-Events\\Photography.xlsx\n",
      "../Data/Social-Events\\Learning.xlsx\n",
      "../Data/Social-Events\\Sports & Fitness.xlsx\n",
      "../Data/Social-Events\\Social.xlsx\n",
      "../Data/Social-Events\\Hobbies & Crafts.xlsx\n",
      "../Data/Social-Events\\Outdoors & Adventure.xlsx\n"
     ]
    }
   ],
   "source": [
    "cate_lst = list(set(df['Category']))\n",
    "\n",
    "# cate_lst = [str(a).replace(' ','') for a in cate_lst]\n",
    "# print(cate_lst)\n",
    "\n",
    "for item in cate_lst:\n",
    "    df_item = df.loc[df['Category'] == item]\n",
    "    file_name = os.path.join(output_path ,str(item) + '.xlsx')\n",
    "    print(file_name)\n",
    "    df_item.to_excel(file_name)"
   ]
  },
  {
   "cell_type": "markdown",
   "metadata": {},
   "source": [
    "### Tansfer to shapefile"
   ]
  },
  {
   "cell_type": "code",
   "execution_count": 7,
   "metadata": {},
   "outputs": [
    {
     "data": {
      "text/plain": [
       "['../Data/Social-Events\\\\Arts.xlsx',\n",
       " '../Data/Social-Events\\\\Beliefs.xlsx',\n",
       " '../Data/Social-Events\\\\Book Clubs.xlsx',\n",
       " '../Data/Social-Events\\\\Career & Business.xlsx',\n",
       " '../Data/Social-Events\\\\Dance.xlsx',\n",
       " '../Data/Social-Events\\\\Family.xlsx',\n",
       " '../Data/Social-Events\\\\Fashion & Beauty.xlsx',\n",
       " '../Data/Social-Events\\\\Film.xlsx',\n",
       " '../Data/Social-Events\\\\Food & Drink.xlsx',\n",
       " '../Data/Social-Events\\\\Health & Wellness.xlsx',\n",
       " '../Data/Social-Events\\\\Hobbies & Crafts.xlsx',\n",
       " '../Data/Social-Events\\\\Language & Culture.xlsx',\n",
       " '../Data/Social-Events\\\\Learning.xlsx',\n",
       " '../Data/Social-Events\\\\LGBTQ.xlsx',\n",
       " '../Data/Social-Events\\\\Movements.xlsx',\n",
       " '../Data/Social-Events\\\\Music.xlsx',\n",
       " '../Data/Social-Events\\\\Outdoors & Adventure.xlsx',\n",
       " '../Data/Social-Events\\\\Pets.xlsx',\n",
       " '../Data/Social-Events\\\\Photography.xlsx',\n",
       " '../Data/Social-Events\\\\Sci-Fi & Games.xlsx',\n",
       " '../Data/Social-Events\\\\Social.xlsx',\n",
       " '../Data/Social-Events\\\\Sports & Fitness.xlsx',\n",
       " '../Data/Social-Events\\\\Tech.xlsx',\n",
       " '../Data/Social-Events\\\\Writing.xlsx']"
      ]
     },
     "execution_count": 7,
     "metadata": {},
     "output_type": "execute_result"
    }
   ],
   "source": [
    "excel_lst = functions.list_file(output_path,extension='xlsx')\n",
    "excel_lst"
   ]
  },
  {
   "cell_type": "code",
   "execution_count": 9,
   "metadata": {},
   "outputs": [
    {
     "ename": "KeyError",
     "evalue": "'X'",
     "output_type": "error",
     "traceback": [
      "\u001b[1;31m---------------------------------------------------------------------------\u001b[0m",
      "\u001b[1;31mKeyError\u001b[0m                                  Traceback (most recent call last)",
      "\u001b[1;32mE:\\Anaconda\\envs\\gpd\\lib\\site-packages\\pandas\\core\\indexes\\base.py\u001b[0m in \u001b[0;36mget_loc\u001b[1;34m(self, key, method, tolerance)\u001b[0m\n\u001b[0;32m   2894\u001b[0m             \u001b[1;32mtry\u001b[0m\u001b[1;33m:\u001b[0m\u001b[1;33m\u001b[0m\u001b[1;33m\u001b[0m\u001b[0m\n\u001b[1;32m-> 2895\u001b[1;33m                 \u001b[1;32mreturn\u001b[0m \u001b[0mself\u001b[0m\u001b[1;33m.\u001b[0m\u001b[0m_engine\u001b[0m\u001b[1;33m.\u001b[0m\u001b[0mget_loc\u001b[0m\u001b[1;33m(\u001b[0m\u001b[0mcasted_key\u001b[0m\u001b[1;33m)\u001b[0m\u001b[1;33m\u001b[0m\u001b[1;33m\u001b[0m\u001b[0m\n\u001b[0m\u001b[0;32m   2896\u001b[0m             \u001b[1;32mexcept\u001b[0m \u001b[0mKeyError\u001b[0m \u001b[1;32mas\u001b[0m \u001b[0merr\u001b[0m\u001b[1;33m:\u001b[0m\u001b[1;33m\u001b[0m\u001b[1;33m\u001b[0m\u001b[0m\n",
      "\u001b[1;32mpandas\\_libs\\index.pyx\u001b[0m in \u001b[0;36mpandas._libs.index.IndexEngine.get_loc\u001b[1;34m()\u001b[0m\n",
      "\u001b[1;32mpandas\\_libs\\index.pyx\u001b[0m in \u001b[0;36mpandas._libs.index.IndexEngine.get_loc\u001b[1;34m()\u001b[0m\n",
      "\u001b[1;32mpandas\\_libs\\hashtable_class_helper.pxi\u001b[0m in \u001b[0;36mpandas._libs.hashtable.PyObjectHashTable.get_item\u001b[1;34m()\u001b[0m\n",
      "\u001b[1;32mpandas\\_libs\\hashtable_class_helper.pxi\u001b[0m in \u001b[0;36mpandas._libs.hashtable.PyObjectHashTable.get_item\u001b[1;34m()\u001b[0m\n",
      "\u001b[1;31mKeyError\u001b[0m: 'X'",
      "\nThe above exception was the direct cause of the following exception:\n",
      "\u001b[1;31mKeyError\u001b[0m                                  Traceback (most recent call last)",
      "\u001b[1;32m<ipython-input-9-6d11c33f8556>\u001b[0m in \u001b[0;36m<module>\u001b[1;34m\u001b[0m\n\u001b[0;32m      1\u001b[0m \u001b[0mshp_out_path\u001b[0m \u001b[1;33m=\u001b[0m \u001b[1;34m'../Shapefile/Social-Events'\u001b[0m\u001b[1;33m\u001b[0m\u001b[1;33m\u001b[0m\u001b[0m\n\u001b[1;32m----> 2\u001b[1;33m \u001b[0mfunctions\u001b[0m\u001b[1;33m.\u001b[0m\u001b[0mto_shp\u001b[0m\u001b[1;33m(\u001b[0m\u001b[0mexcel_lst\u001b[0m\u001b[1;33m,\u001b[0m\u001b[0mshp_out_path\u001b[0m\u001b[1;33m,\u001b[0m\u001b[0mtype\u001b[0m \u001b[1;33m=\u001b[0m \u001b[1;34m'xlsx'\u001b[0m\u001b[1;33m)\u001b[0m\u001b[1;33m\u001b[0m\u001b[1;33m\u001b[0m\u001b[0m\n\u001b[0m",
      "\u001b[1;32mF:\\Social-Events\\Script\\functions.py\u001b[0m in \u001b[0;36mto_shp\u001b[1;34m(file_lst, outpath, type, key_x, key_y, prj)\u001b[0m\n\u001b[0;32m     24\u001b[0m             \u001b[0mdf\u001b[0m \u001b[1;33m=\u001b[0m \u001b[0mpd\u001b[0m\u001b[1;33m.\u001b[0m\u001b[0mread_excel\u001b[0m\u001b[1;33m(\u001b[0m\u001b[0mfile\u001b[0m\u001b[1;33m)\u001b[0m\u001b[1;33m\u001b[0m\u001b[1;33m\u001b[0m\u001b[0m\n\u001b[0;32m     25\u001b[0m         \u001b[1;32mif\u001b[0m \u001b[1;33m(\u001b[0m\u001b[0mdf\u001b[0m\u001b[1;33m.\u001b[0m\u001b[0mshape\u001b[0m\u001b[1;33m[\u001b[0m\u001b[1;36m0\u001b[0m\u001b[1;33m]\u001b[0m \u001b[1;33m>\u001b[0m \u001b[1;36m2\u001b[0m\u001b[1;33m)\u001b[0m\u001b[1;33m:\u001b[0m\u001b[1;33m\u001b[0m\u001b[1;33m\u001b[0m\u001b[0m\n\u001b[1;32m---> 26\u001b[1;33m             \u001b[0mgdf\u001b[0m \u001b[1;33m=\u001b[0m \u001b[0mgpd\u001b[0m\u001b[1;33m.\u001b[0m\u001b[0mGeoDataFrame\u001b[0m\u001b[1;33m(\u001b[0m\u001b[0mdf\u001b[0m\u001b[1;33m,\u001b[0m \u001b[0mgeometry\u001b[0m\u001b[1;33m=\u001b[0m\u001b[0mgpd\u001b[0m\u001b[1;33m.\u001b[0m\u001b[0mpoints_from_xy\u001b[0m\u001b[1;33m(\u001b[0m\u001b[0mdf\u001b[0m\u001b[1;33m[\u001b[0m\u001b[0mkey_x\u001b[0m\u001b[1;33m]\u001b[0m\u001b[1;33m,\u001b[0m \u001b[0mdf\u001b[0m\u001b[1;33m[\u001b[0m\u001b[0mkey_y\u001b[0m\u001b[1;33m]\u001b[0m\u001b[1;33m)\u001b[0m\u001b[1;33m)\u001b[0m\u001b[1;33m\u001b[0m\u001b[1;33m\u001b[0m\u001b[0m\n\u001b[0m\u001b[0;32m     27\u001b[0m             \u001b[0mgdf\u001b[0m\u001b[1;33m.\u001b[0m\u001b[0mcrs\u001b[0m \u001b[1;33m=\u001b[0m \u001b[0mprj\u001b[0m\u001b[1;33m\u001b[0m\u001b[1;33m\u001b[0m\u001b[0m\n\u001b[0;32m     28\u001b[0m             \u001b[0mgdf\u001b[0m \u001b[1;33m=\u001b[0m \u001b[0mgdf\u001b[0m\u001b[1;33m.\u001b[0m\u001b[0mto_crs\u001b[0m\u001b[1;33m(\u001b[0m\u001b[0mepsg\u001b[0m\u001b[1;33m=\u001b[0m\u001b[1;36m2163\u001b[0m\u001b[1;33m)\u001b[0m\u001b[1;33m\u001b[0m\u001b[1;33m\u001b[0m\u001b[0m\n",
      "\u001b[1;32mE:\\Anaconda\\envs\\gpd\\lib\\site-packages\\pandas\\core\\frame.py\u001b[0m in \u001b[0;36m__getitem__\u001b[1;34m(self, key)\u001b[0m\n\u001b[0;32m   2900\u001b[0m             \u001b[1;32mif\u001b[0m \u001b[0mself\u001b[0m\u001b[1;33m.\u001b[0m\u001b[0mcolumns\u001b[0m\u001b[1;33m.\u001b[0m\u001b[0mnlevels\u001b[0m \u001b[1;33m>\u001b[0m \u001b[1;36m1\u001b[0m\u001b[1;33m:\u001b[0m\u001b[1;33m\u001b[0m\u001b[1;33m\u001b[0m\u001b[0m\n\u001b[0;32m   2901\u001b[0m                 \u001b[1;32mreturn\u001b[0m \u001b[0mself\u001b[0m\u001b[1;33m.\u001b[0m\u001b[0m_getitem_multilevel\u001b[0m\u001b[1;33m(\u001b[0m\u001b[0mkey\u001b[0m\u001b[1;33m)\u001b[0m\u001b[1;33m\u001b[0m\u001b[1;33m\u001b[0m\u001b[0m\n\u001b[1;32m-> 2902\u001b[1;33m             \u001b[0mindexer\u001b[0m \u001b[1;33m=\u001b[0m \u001b[0mself\u001b[0m\u001b[1;33m.\u001b[0m\u001b[0mcolumns\u001b[0m\u001b[1;33m.\u001b[0m\u001b[0mget_loc\u001b[0m\u001b[1;33m(\u001b[0m\u001b[0mkey\u001b[0m\u001b[1;33m)\u001b[0m\u001b[1;33m\u001b[0m\u001b[1;33m\u001b[0m\u001b[0m\n\u001b[0m\u001b[0;32m   2903\u001b[0m             \u001b[1;32mif\u001b[0m \u001b[0mis_integer\u001b[0m\u001b[1;33m(\u001b[0m\u001b[0mindexer\u001b[0m\u001b[1;33m)\u001b[0m\u001b[1;33m:\u001b[0m\u001b[1;33m\u001b[0m\u001b[1;33m\u001b[0m\u001b[0m\n\u001b[0;32m   2904\u001b[0m                 \u001b[0mindexer\u001b[0m \u001b[1;33m=\u001b[0m \u001b[1;33m[\u001b[0m\u001b[0mindexer\u001b[0m\u001b[1;33m]\u001b[0m\u001b[1;33m\u001b[0m\u001b[1;33m\u001b[0m\u001b[0m\n",
      "\u001b[1;32mE:\\Anaconda\\envs\\gpd\\lib\\site-packages\\pandas\\core\\indexes\\base.py\u001b[0m in \u001b[0;36mget_loc\u001b[1;34m(self, key, method, tolerance)\u001b[0m\n\u001b[0;32m   2895\u001b[0m                 \u001b[1;32mreturn\u001b[0m \u001b[0mself\u001b[0m\u001b[1;33m.\u001b[0m\u001b[0m_engine\u001b[0m\u001b[1;33m.\u001b[0m\u001b[0mget_loc\u001b[0m\u001b[1;33m(\u001b[0m\u001b[0mcasted_key\u001b[0m\u001b[1;33m)\u001b[0m\u001b[1;33m\u001b[0m\u001b[1;33m\u001b[0m\u001b[0m\n\u001b[0;32m   2896\u001b[0m             \u001b[1;32mexcept\u001b[0m \u001b[0mKeyError\u001b[0m \u001b[1;32mas\u001b[0m \u001b[0merr\u001b[0m\u001b[1;33m:\u001b[0m\u001b[1;33m\u001b[0m\u001b[1;33m\u001b[0m\u001b[0m\n\u001b[1;32m-> 2897\u001b[1;33m                 \u001b[1;32mraise\u001b[0m \u001b[0mKeyError\u001b[0m\u001b[1;33m(\u001b[0m\u001b[0mkey\u001b[0m\u001b[1;33m)\u001b[0m \u001b[1;32mfrom\u001b[0m \u001b[0merr\u001b[0m\u001b[1;33m\u001b[0m\u001b[1;33m\u001b[0m\u001b[0m\n\u001b[0m\u001b[0;32m   2898\u001b[0m \u001b[1;33m\u001b[0m\u001b[0m\n\u001b[0;32m   2899\u001b[0m         \u001b[1;32mif\u001b[0m \u001b[0mtolerance\u001b[0m \u001b[1;32mis\u001b[0m \u001b[1;32mnot\u001b[0m \u001b[1;32mNone\u001b[0m\u001b[1;33m:\u001b[0m\u001b[1;33m\u001b[0m\u001b[1;33m\u001b[0m\u001b[0m\n",
      "\u001b[1;31mKeyError\u001b[0m: 'X'"
     ]
    }
   ],
   "source": [
    "shp_out_path = '../Shapefile/Social-Events'\n",
    "functions.to_shp(excel_lst,shp_out_path,type = 'xlsx',key_x='Long',key_y='Lat')"
   ]
  },
  {
   "cell_type": "code",
   "execution_count": null,
   "metadata": {},
   "outputs": [],
   "source": []
  }
 ],
 "metadata": {
  "kernelspec": {
   "display_name": "Python (geopandas)",
   "language": "python",
   "name": "gpd"
  },
  "language_info": {
   "codemirror_mode": {
    "name": "ipython",
    "version": 3
   },
   "file_extension": ".py",
   "mimetype": "text/x-python",
   "name": "python",
   "nbconvert_exporter": "python",
   "pygments_lexer": "ipython3",
   "version": "3.8.5"
  },
  "toc": {
   "base_numbering": 1,
   "nav_menu": {},
   "number_sections": true,
   "sideBar": true,
   "skip_h1_title": true,
   "title_cell": "Table of Contents",
   "title_sidebar": "Contents",
   "toc_cell": true,
   "toc_position": {},
   "toc_section_display": true,
   "toc_window_display": true
  }
 },
 "nbformat": 4,
 "nbformat_minor": 4
}
