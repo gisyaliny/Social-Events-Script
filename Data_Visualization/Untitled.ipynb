{
 "cells": [
  {
   "cell_type": "markdown",
   "metadata": {
    "toc": true
   },
   "source": [
    "<h1>Table of Contents<span class=\"tocSkip\"></span></h1>\n",
    "<div class=\"toc\"><ul class=\"toc-item\"><li><span><a href=\"#Pre-processing-Dataset\" data-toc-modified-id=\"Pre-processing-Dataset-1\"><span class=\"toc-item-num\">1&nbsp;&nbsp;</span>Pre-processing Dataset</a></span><ul class=\"toc-item\"><li><span><a href=\"#Check-the-frequency\" data-toc-modified-id=\"Check-the-frequency-1.1\"><span class=\"toc-item-num\">1.1&nbsp;&nbsp;</span>Check the frequency</a></span></li><li><span><a href=\"#Save-as-different-table\" data-toc-modified-id=\"Save-as-different-table-1.2\"><span class=\"toc-item-num\">1.2&nbsp;&nbsp;</span>Save as different table</a></span></li><li><span><a href=\"#Tansfer-to-shapefile\" data-toc-modified-id=\"Tansfer-to-shapefile-1.3\"><span class=\"toc-item-num\">1.3&nbsp;&nbsp;</span>Tansfer to shapefile</a></span></li></ul></li><li><span><a href=\"#Cluster-Analysis\" data-toc-modified-id=\"Cluster-Analysis-2\"><span class=\"toc-item-num\">2&nbsp;&nbsp;</span>Cluster Analysis</a></span><ul class=\"toc-item\"><li><span><a href=\"#Read-the-Zillow-neighbors\" data-toc-modified-id=\"Read-the-Zillow-neighbors-2.1\"><span class=\"toc-item-num\">2.1&nbsp;&nbsp;</span>Read the Zillow neighbors</a></span></li></ul></li></ul></div>"
   ]
  },
  {
   "cell_type": "code",
   "execution_count": 1,
   "metadata": {},
   "outputs": [],
   "source": [
    "import geopandas as gpd\n",
    "import pandas as pd\n",
    "import matplotlib.pyplot as plt\n",
    "plt.rcParams['figure.figsize'] = [15, 12]"
   ]
  },
  {
   "cell_type": "code",
   "execution_count": 2,
   "metadata": {},
   "outputs": [],
   "source": [
    "import sys\n",
    "sys.path.append('Script')\n",
    "import functions"
   ]
  },
  {
   "cell_type": "code",
   "execution_count": 3,
   "metadata": {},
   "outputs": [
    {
     "data": {
      "text/html": [
       "<div>\n",
       "<style scoped>\n",
       "    .dataframe tbody tr th:only-of-type {\n",
       "        vertical-align: middle;\n",
       "    }\n",
       "\n",
       "    .dataframe tbody tr th {\n",
       "        vertical-align: top;\n",
       "    }\n",
       "\n",
       "    .dataframe thead th {\n",
       "        text-align: right;\n",
       "    }\n",
       "</style>\n",
       "<table border=\"1\" class=\"dataframe\">\n",
       "  <thead>\n",
       "    <tr style=\"text-align: right;\">\n",
       "      <th></th>\n",
       "      <th>Category</th>\n",
       "      <th>Group</th>\n",
       "      <th>Name</th>\n",
       "      <th>POI</th>\n",
       "      <th>Place</th>\n",
       "      <th>URL</th>\n",
       "      <th>Host By</th>\n",
       "      <th>Address</th>\n",
       "      <th>Description</th>\n",
       "      <th>Key Words</th>\n",
       "      <th>...</th>\n",
       "      <th>Lat</th>\n",
       "      <th>Long</th>\n",
       "      <th>Date</th>\n",
       "      <th>Start_Time</th>\n",
       "      <th>End_Time</th>\n",
       "      <th>Location</th>\n",
       "      <th>Types</th>\n",
       "      <th>start_timeRange</th>\n",
       "      <th>end_timeRange</th>\n",
       "      <th>weekdays</th>\n",
       "    </tr>\n",
       "  </thead>\n",
       "  <tbody>\n",
       "    <tr>\n",
       "      <th>0</th>\n",
       "      <td>Arts</td>\n",
       "      <td>Art With Intention</td>\n",
       "      <td>Beginners Salsa /Bachata Classes!</td>\n",
       "      <td>2801 Forest Ridge Dr</td>\n",
       "      <td>2801 Forest Ridge Dr · Bedford, TX</td>\n",
       "      <td>https://www.meetup.com/stepup/events/msdlnrybc...</td>\n",
       "      <td>Kane (My Salsa Dance S.</td>\n",
       "      <td>Bedford, TX, us</td>\n",
       "      <td>Mon, Mar 9, 2020, 7:00 PM: Hi Friends,New Clas...</td>\n",
       "      <td>Musicians,Artists,Performing Arts,Models,Songw...</td>\n",
       "      <td>...</td>\n",
       "      <td>32.850033</td>\n",
       "      <td>-97.144920</td>\n",
       "      <td>2020-03-09</td>\n",
       "      <td>7:00 PM</td>\n",
       "      <td>9:00 PM</td>\n",
       "      <td>32.850032806396484;-97.1449203491211</td>\n",
       "      <td>Weekly events</td>\n",
       "      <td>38</td>\n",
       "      <td>42</td>\n",
       "      <td>0</td>\n",
       "    </tr>\n",
       "    <tr>\n",
       "      <th>1</th>\n",
       "      <td>Arts</td>\n",
       "      <td>Art With Intention</td>\n",
       "      <td>Beginners Salsa /Bachata Classes!</td>\n",
       "      <td>2801 Forest Ridge Dr</td>\n",
       "      <td>2801 Forest Ridge Dr · Bedford, TX</td>\n",
       "      <td>https://www.meetup.com/stepup/events/msdlnrybc...</td>\n",
       "      <td>Kane (My Salsa Dance S.</td>\n",
       "      <td>Bedford, TX, us</td>\n",
       "      <td>Mon, Mar 16, 2020, 7:00 PM: Hi Friends,New Cla...</td>\n",
       "      <td>Musicians,Artists,Performing Arts,Models,Songw...</td>\n",
       "      <td>...</td>\n",
       "      <td>32.850033</td>\n",
       "      <td>-97.144920</td>\n",
       "      <td>2020-03-16</td>\n",
       "      <td>7:00 PM</td>\n",
       "      <td>9:00 PM</td>\n",
       "      <td>32.850032806396484;-97.1449203491211</td>\n",
       "      <td>Weekly events</td>\n",
       "      <td>38</td>\n",
       "      <td>42</td>\n",
       "      <td>0</td>\n",
       "    </tr>\n",
       "    <tr>\n",
       "      <th>2</th>\n",
       "      <td>Arts</td>\n",
       "      <td>Art With Intention</td>\n",
       "      <td>Beginners Salsa /Bachata Classes!</td>\n",
       "      <td>2801 Forest Ridge Dr</td>\n",
       "      <td>2801 Forest Ridge Dr · Bedford, TX</td>\n",
       "      <td>https://www.meetup.com/stepup/events/msdlnrybc...</td>\n",
       "      <td>Kane (My Salsa Dance S.</td>\n",
       "      <td>Bedford, TX, us</td>\n",
       "      <td>Mon, Mar 23, 2020, 7:00 PM: Hi Friends,New Cla...</td>\n",
       "      <td>Musicians,Artists,Performing Arts,Models,Songw...</td>\n",
       "      <td>...</td>\n",
       "      <td>32.850033</td>\n",
       "      <td>-97.144920</td>\n",
       "      <td>2020-03-23</td>\n",
       "      <td>7:00 PM</td>\n",
       "      <td>9:00 PM</td>\n",
       "      <td>32.850032806396484;-97.1449203491211</td>\n",
       "      <td>Weekly events</td>\n",
       "      <td>38</td>\n",
       "      <td>42</td>\n",
       "      <td>0</td>\n",
       "    </tr>\n",
       "    <tr>\n",
       "      <th>3</th>\n",
       "      <td>Arts</td>\n",
       "      <td>Art With Intention</td>\n",
       "      <td>Beginners Salsa /Bachata Classes!</td>\n",
       "      <td>2801 Forest Ridge Dr</td>\n",
       "      <td>2801 Forest Ridge Dr · Bedford, TX</td>\n",
       "      <td>https://www.meetup.com/stepup/events/msdlnrybc...</td>\n",
       "      <td>Kane (My Salsa Dance S.</td>\n",
       "      <td>Bedford, TX, us</td>\n",
       "      <td>Mon, Mar 30, 2020, 7:00 PM: Hi Friends,New Cla...</td>\n",
       "      <td>Musicians,Artists,Performing Arts,Models,Songw...</td>\n",
       "      <td>...</td>\n",
       "      <td>32.850033</td>\n",
       "      <td>-97.144920</td>\n",
       "      <td>2020-03-30</td>\n",
       "      <td>7:00 PM</td>\n",
       "      <td>9:00 PM</td>\n",
       "      <td>32.850032806396484;-97.1449203491211</td>\n",
       "      <td>Weekly events</td>\n",
       "      <td>38</td>\n",
       "      <td>42</td>\n",
       "      <td>0</td>\n",
       "    </tr>\n",
       "    <tr>\n",
       "      <th>4</th>\n",
       "      <td>Arts</td>\n",
       "      <td>ArtSpace at Metropolitan Press</td>\n",
       "      <td>Metropolitan Press ArtSpace March Reception: Y...</td>\n",
       "      <td>ArtSpace Metropolitan Press</td>\n",
       "      <td>1250 Majesty Drive · Dallas, TX</td>\n",
       "      <td>https://www.meetup.com/ArtSpace-at-Metropolita...</td>\n",
       "      <td>Karen T.</td>\n",
       "      <td>Dallas, TX, us</td>\n",
       "      <td>Thu, Mar 5, 2020, 5:00 PM: Metropolitan’s Marc...</td>\n",
       "      <td>Photography,Art,Group Art,Creative Circle,Fine...</td>\n",
       "      <td>...</td>\n",
       "      <td>32.826092</td>\n",
       "      <td>-96.876396</td>\n",
       "      <td>2020-03-05</td>\n",
       "      <td>5:00 PM</td>\n",
       "      <td>8:00 PM</td>\n",
       "      <td>32.82609176635742;-96.87639617919922</td>\n",
       "      <td>One Time events</td>\n",
       "      <td>34</td>\n",
       "      <td>40</td>\n",
       "      <td>3</td>\n",
       "    </tr>\n",
       "  </tbody>\n",
       "</table>\n",
       "<p>5 rows × 24 columns</p>\n",
       "</div>"
      ],
      "text/plain": [
       "  Category                           Group  \\\n",
       "0     Arts              Art With Intention   \n",
       "1     Arts              Art With Intention   \n",
       "2     Arts              Art With Intention   \n",
       "3     Arts              Art With Intention   \n",
       "4     Arts  ArtSpace at Metropolitan Press   \n",
       "\n",
       "                                                Name  \\\n",
       "0                  Beginners Salsa /Bachata Classes!   \n",
       "1                  Beginners Salsa /Bachata Classes!   \n",
       "2                  Beginners Salsa /Bachata Classes!   \n",
       "3                  Beginners Salsa /Bachata Classes!   \n",
       "4  Metropolitan Press ArtSpace March Reception: Y...   \n",
       "\n",
       "                           POI                               Place  \\\n",
       "0         2801 Forest Ridge Dr  2801 Forest Ridge Dr · Bedford, TX   \n",
       "1         2801 Forest Ridge Dr  2801 Forest Ridge Dr · Bedford, TX   \n",
       "2         2801 Forest Ridge Dr  2801 Forest Ridge Dr · Bedford, TX   \n",
       "3         2801 Forest Ridge Dr  2801 Forest Ridge Dr · Bedford, TX   \n",
       "4  ArtSpace Metropolitan Press     1250 Majesty Drive · Dallas, TX   \n",
       "\n",
       "                                                 URL                  Host By  \\\n",
       "0  https://www.meetup.com/stepup/events/msdlnrybc...  Kane (My Salsa Dance S.   \n",
       "1  https://www.meetup.com/stepup/events/msdlnrybc...  Kane (My Salsa Dance S.   \n",
       "2  https://www.meetup.com/stepup/events/msdlnrybc...  Kane (My Salsa Dance S.   \n",
       "3  https://www.meetup.com/stepup/events/msdlnrybc...  Kane (My Salsa Dance S.   \n",
       "4  https://www.meetup.com/ArtSpace-at-Metropolita...                 Karen T.   \n",
       "\n",
       "           Address                                        Description  \\\n",
       "0  Bedford, TX, us  Mon, Mar 9, 2020, 7:00 PM: Hi Friends,New Clas...   \n",
       "1  Bedford, TX, us  Mon, Mar 16, 2020, 7:00 PM: Hi Friends,New Cla...   \n",
       "2  Bedford, TX, us  Mon, Mar 23, 2020, 7:00 PM: Hi Friends,New Cla...   \n",
       "3  Bedford, TX, us  Mon, Mar 30, 2020, 7:00 PM: Hi Friends,New Cla...   \n",
       "4   Dallas, TX, us  Thu, Mar 5, 2020, 5:00 PM: Metropolitan’s Marc...   \n",
       "\n",
       "                                           Key Words  ...        Lat  \\\n",
       "0  Musicians,Artists,Performing Arts,Models,Songw...  ...  32.850033   \n",
       "1  Musicians,Artists,Performing Arts,Models,Songw...  ...  32.850033   \n",
       "2  Musicians,Artists,Performing Arts,Models,Songw...  ...  32.850033   \n",
       "3  Musicians,Artists,Performing Arts,Models,Songw...  ...  32.850033   \n",
       "4  Photography,Art,Group Art,Creative Circle,Fine...  ...  32.826092   \n",
       "\n",
       "        Long       Date Start_Time  End_Time  \\\n",
       "0 -97.144920 2020-03-09   7:00 PM    9:00 PM   \n",
       "1 -97.144920 2020-03-16   7:00 PM    9:00 PM   \n",
       "2 -97.144920 2020-03-23   7:00 PM    9:00 PM   \n",
       "3 -97.144920 2020-03-30   7:00 PM    9:00 PM   \n",
       "4 -96.876396 2020-03-05   5:00 PM    8:00 PM   \n",
       "\n",
       "                               Location            Types start_timeRange  \\\n",
       "0  32.850032806396484;-97.1449203491211    Weekly events              38   \n",
       "1  32.850032806396484;-97.1449203491211    Weekly events              38   \n",
       "2  32.850032806396484;-97.1449203491211    Weekly events              38   \n",
       "3  32.850032806396484;-97.1449203491211    Weekly events              38   \n",
       "4  32.82609176635742;-96.87639617919922  One Time events              34   \n",
       "\n",
       "  end_timeRange weekdays  \n",
       "0            42        0  \n",
       "1            42        0  \n",
       "2            42        0  \n",
       "3            42        0  \n",
       "4            40        3  \n",
       "\n",
       "[5 rows x 24 columns]"
      ]
     },
     "execution_count": 3,
     "metadata": {},
     "output_type": "execute_result"
    }
   ],
   "source": [
    "df = pd.read_excel('Classified_events.xlsx')\n",
    "df = functions.drop_na(df)\n",
    "df.head()"
   ]
  },
  {
   "cell_type": "markdown",
   "metadata": {},
   "source": [
    "## Pre-processing Dataset"
   ]
  },
  {
   "cell_type": "markdown",
   "metadata": {},
   "source": [
    "### Check the frequency"
   ]
  },
  {
   "cell_type": "code",
   "execution_count": 4,
   "metadata": {},
   "outputs": [
    {
     "data": {
      "image/png": "[encoded data removed]",
      "text/plain": [
       "<Figure size 1440x720 with 1 Axes>"
      ]
     },
     "metadata": {
      "needs_background": "light"
     },
     "output_type": "display_data"
    }
   ],
   "source": [
    "df1 = df.replace(['Arts', 'Beliefs', 'Book Clubs', 'Career & Business', 'Dance',\n",
    "       'Family', 'Fashion & Beauty', 'Film', 'Food & Drink',\n",
    "       'Health & Wellness', 'Hobbies & Crafts', 'Language & Culture',\n",
    "       'Learning', 'LGBTQ', 'Movements', 'Music', 'Outdoors & Adventure',\n",
    "       'Pets', 'Photography', 'Sci-Fi & Games', 'Social',\n",
    "       'Sports & Fitness', 'Tech', 'Writing'],['At','Bf','Bk','C&B','Dc','Fy','F&B','Fm','F&D','H&W','H&C','L&C',\n",
    "                                              'Le','LG','Mt','Mu','O&A','Pt','Py','S&C','Sl','S&F','T','Wt'])\n",
    "\n",
    "plt.figure(figsize=(20, 10))\n",
    "plt.bar(df1['Category'].value_counts().index,df1['Category'].value_counts())\n",
    "plt.title('Events Count\\n', fontsize=20)\n",
    "plt.xlabel('Category', fontsize=18)\n",
    "plt.ylabel('Count', fontsize=18)\n",
    "\n",
    "plt.show()"
   ]
  },
  {
   "cell_type": "markdown",
   "metadata": {},
   "source": [
    "### Save as different table"
   ]
  },
  {
   "cell_type": "code",
   "execution_count": 5,
   "metadata": {},
   "outputs": [],
   "source": [
    "import os\n",
    "import datetime\n",
    "output_path = '../Data/Social-Events'"
   ]
  },
  {
   "cell_type": "code",
   "execution_count": 6,
   "metadata": {},
   "outputs": [
    {
     "name": "stdout",
     "output_type": "stream",
     "text": [
      "../Data/Social-Events\\Health & Wellness.xlsx\n",
      "../Data/Social-Events\\Book Clubs.xlsx\n",
      "../Data/Social-Events\\LGBTQ.xlsx\n",
      "../Data/Social-Events\\Language & Culture.xlsx\n",
      "../Data/Social-Events\\Career & Business.xlsx\n",
      "../Data/Social-Events\\Pets.xlsx\n",
      "../Data/Social-Events\\Fashion & Beauty.xlsx\n",
      "../Data/Social-Events\\Beliefs.xlsx\n",
      "../Data/Social-Events\\Sports & Fitness.xlsx\n",
      "../Data/Social-Events\\Food & Drink.xlsx\n",
      "../Data/Social-Events\\Sci-Fi & Games.xlsx\n",
      "../Data/Social-Events\\Learning.xlsx\n",
      "../Data/Social-Events\\Arts.xlsx\n",
      "../Data/Social-Events\\Photography.xlsx\n",
      "../Data/Social-Events\\Film.xlsx\n",
      "../Data/Social-Events\\Social.xlsx\n",
      "../Data/Social-Events\\Writing.xlsx\n",
      "../Data/Social-Events\\Music.xlsx\n",
      "../Data/Social-Events\\Tech.xlsx\n",
      "../Data/Social-Events\\Movements.xlsx\n",
      "../Data/Social-Events\\Hobbies & Crafts.xlsx\n",
      "../Data/Social-Events\\Outdoors & Adventure.xlsx\n",
      "../Data/Social-Events\\Family.xlsx\n",
      "../Data/Social-Events\\Dance.xlsx\n"
     ]
    }
   ],
   "source": [
    "cate_lst = list(set(df['Category']))\n",
    "\n",
    "# cate_lst = [str(a).replace(' ','') for a in cate_lst]\n",
    "# print(cate_lst)\n",
    "\n",
    "for item in cate_lst:\n",
    "    df_item = df.loc[df['Category'] == item]\n",
    "    file_name = os.path.join(output_path ,str(item) + '.xlsx')\n",
    "    print(file_name)\n",
    "    df_item.to_excel(file_name,index= False)"
   ]
  },
  {
   "cell_type": "markdown",
   "metadata": {},
   "source": [
    "### Tansfer to shapefile"
   ]
  },
  {
   "cell_type": "code",
   "execution_count": 7,
   "metadata": {},
   "outputs": [
    {
     "data": {
      "text/plain": [
       "['../Data/Social-Events\\\\Arts.xlsx',\n",
       " '../Data/Social-Events\\\\Beliefs.xlsx',\n",
       " '../Data/Social-Events\\\\Book Clubs.xlsx',\n",
       " '../Data/Social-Events\\\\Career & Business.xlsx',\n",
       " '../Data/Social-Events\\\\Dance.xlsx',\n",
       " '../Data/Social-Events\\\\Family.xlsx',\n",
       " '../Data/Social-Events\\\\Fashion & Beauty.xlsx',\n",
       " '../Data/Social-Events\\\\Film.xlsx',\n",
       " '../Data/Social-Events\\\\Food & Drink.xlsx',\n",
       " '../Data/Social-Events\\\\Health & Wellness.xlsx',\n",
       " '../Data/Social-Events\\\\Hobbies & Crafts.xlsx',\n",
       " '../Data/Social-Events\\\\Language & Culture.xlsx',\n",
       " '../Data/Social-Events\\\\Learning.xlsx',\n",
       " '../Data/Social-Events\\\\LGBTQ.xlsx',\n",
       " '../Data/Social-Events\\\\Movements.xlsx',\n",
       " '../Data/Social-Events\\\\Music.xlsx',\n",
       " '../Data/Social-Events\\\\Outdoors & Adventure.xlsx',\n",
       " '../Data/Social-Events\\\\Pets.xlsx',\n",
       " '../Data/Social-Events\\\\Photography.xlsx',\n",
       " '../Data/Social-Events\\\\Sci-Fi & Games.xlsx',\n",
       " '../Data/Social-Events\\\\Social.xlsx',\n",
       " '../Data/Social-Events\\\\Sports & Fitness.xlsx',\n",
       " '../Data/Social-Events\\\\Tech.xlsx',\n",
       " '../Data/Social-Events\\\\Writing.xlsx']"
      ]
     },
     "execution_count": 7,
     "metadata": {},
     "output_type": "execute_result"
    }
   ],
   "source": [
    "excel_lst = functions.list_file(output_path,extension='xlsx')\n",
    "excel_lst"
   ]
  },
  {
   "cell_type": "code",
   "execution_count": 8,
   "metadata": {},
   "outputs": [
    {
     "name": "stderr",
     "output_type": "stream",
     "text": [
      "E:\\Anaconda\\envs\\gpd\\lib\\site-packages\\pyproj\\crs\\crs.py:53: FutureWarning: '+init=<authority>:<code>' syntax is deprecated. '<authority>:<code>' is the preferred initialization method. When making the change, be mindful of axis order changes: https://pyproj4.github.io/pyproj/stable/gotchas.html#axis-order-changes-in-proj-6\n",
      "  return _prepare_from_string(\" \".join(pjargs))\n"
     ]
    },
    {
     "name": "stdout",
     "output_type": "stream",
     "text": [
      "Transfer ../Shapefile/Social-Events\\Arts.shp successful!\n",
      "Transfer ../Shapefile/Social-Events\\Beliefs.shp successful!\n",
      "Transfer ../Shapefile/Social-Events\\Book Clubs.shp successful!\n",
      "Transfer ../Shapefile/Social-Events\\Career & Business.shp successful!\n",
      "Transfer ../Shapefile/Social-Events\\Dance.shp successful!\n",
      "Transfer ../Shapefile/Social-Events\\Family.shp successful!\n",
      "Transfer ../Shapefile/Social-Events\\Fashion & Beauty.shp successful!\n",
      "Transfer ../Shapefile/Social-Events\\Film.shp successful!\n",
      "Transfer ../Shapefile/Social-Events\\Food & Drink.shp successful!\n",
      "Transfer ../Shapefile/Social-Events\\Health & Wellness.shp successful!\n",
      "Transfer ../Shapefile/Social-Events\\Hobbies & Crafts.shp successful!\n",
      "Transfer ../Shapefile/Social-Events\\Language & Culture.shp successful!\n",
      "Transfer ../Shapefile/Social-Events\\Learning.shp successful!\n",
      "Transfer ../Shapefile/Social-Events\\LGBTQ.shp successful!\n",
      "Transfer ../Shapefile/Social-Events\\Movements.shp successful!\n",
      "Transfer ../Shapefile/Social-Events\\Music.shp successful!\n",
      "Transfer ../Shapefile/Social-Events\\Outdoors & Adventure.shp successful!\n",
      "Transfer ../Shapefile/Social-Events\\Pets.shp successful!\n",
      "Transfer ../Shapefile/Social-Events\\Photography.shp successful!\n",
      "Transfer ../Shapefile/Social-Events\\Sci-Fi & Games.shp successful!\n",
      "Transfer ../Shapefile/Social-Events\\Social.shp successful!\n",
      "Transfer ../Shapefile/Social-Events\\Sports & Fitness.shp successful!\n",
      "Transfer ../Shapefile/Social-Events\\Tech.shp successful!\n",
      "Transfer ../Shapefile/Social-Events\\Writing.shp successful!\n",
      "Transformation finished with 7.81 Seconds\n"
     ]
    }
   ],
   "source": [
    "shp_out_path = '../Shapefile/Social-Events'\n",
    "functions.to_shp(excel_lst,shp_out_path,Date_format ='%Y-%m-%d',type = 'xlsx',key_x='Long',key_y='Lat')"
   ]
  },
  {
   "cell_type": "code",
   "execution_count": 10,
   "metadata": {},
   "outputs": [
    {
     "name": "stdout",
     "output_type": "stream",
     "text": [
      "Transfer ../Shapefile/Social-Events\\Classified_events.shp successful!\n",
      "Transformation finished with 4.67 Seconds\n"
     ]
    }
   ],
   "source": [
    "functions.to_shp(['./Classified_events.xlsx'],shp_out_path,Date_format ='%Y-%m-%d',type = 'xlsx',key_x='Long',key_y='Lat')"
   ]
  },
  {
   "cell_type": "markdown",
   "metadata": {},
   "source": [
    "## Cluster Analysis"
   ]
  },
  {
   "cell_type": "code",
   "execution_count": 16,
   "metadata": {},
   "outputs": [],
   "source": [
    "import glob\n",
    "import folium"
   ]
  },
  {
   "cell_type": "code",
   "execution_count": 19,
   "metadata": {},
   "outputs": [
    {
     "data": {
      "text/plain": [
       "['../Shapefile/Social-Events\\\\Arts.shp',\n",
       " '../Shapefile/Social-Events\\\\Beliefs.shp',\n",
       " '../Shapefile/Social-Events\\\\Book Clubs.shp',\n",
       " '../Shapefile/Social-Events\\\\Career & Business.shp',\n",
       " '../Shapefile/Social-Events\\\\Classified_events.shp',\n",
       " '../Shapefile/Social-Events\\\\Dance.shp',\n",
       " '../Shapefile/Social-Events\\\\Family.shp',\n",
       " '../Shapefile/Social-Events\\\\Fashion & Beauty.shp',\n",
       " '../Shapefile/Social-Events\\\\Film.shp',\n",
       " '../Shapefile/Social-Events\\\\Food & Drink.shp',\n",
       " '../Shapefile/Social-Events\\\\Health & Wellness.shp',\n",
       " '../Shapefile/Social-Events\\\\Hobbies & Crafts.shp',\n",
       " '../Shapefile/Social-Events\\\\Language & Culture.shp',\n",
       " '../Shapefile/Social-Events\\\\Learning.shp',\n",
       " '../Shapefile/Social-Events\\\\LGBTQ.shp',\n",
       " '../Shapefile/Social-Events\\\\Movements.shp',\n",
       " '../Shapefile/Social-Events\\\\Music.shp',\n",
       " '../Shapefile/Social-Events\\\\Outdoors & Adventure.shp',\n",
       " '../Shapefile/Social-Events\\\\Pets.shp',\n",
       " '../Shapefile/Social-Events\\\\Photography.shp',\n",
       " '../Shapefile/Social-Events\\\\Sci-Fi & Games.shp',\n",
       " '../Shapefile/Social-Events\\\\Social.shp',\n",
       " '../Shapefile/Social-Events\\\\Sports & Fitness.shp',\n",
       " '../Shapefile/Social-Events\\\\Tech.shp',\n",
       " '../Shapefile/Social-Events\\\\Writing.shp']"
      ]
     },
     "execution_count": 19,
     "metadata": {},
     "output_type": "execute_result"
    }
   ],
   "source": [
    "shp_out_path = '../Shapefile/Social-Events'\n",
    "shp_lst = glob.glob(shp_out_path + '/*.shp')\n",
    "shp_lst"
   ]
  },
  {
   "cell_type": "code",
   "execution_count": 25,
   "metadata": {},
   "outputs": [
    {
     "data": {
      "text/html": [
       "<div>\n",
       "<style scoped>\n",
       "    .dataframe tbody tr th:only-of-type {\n",
       "        vertical-align: middle;\n",
       "    }\n",
       "\n",
       "    .dataframe tbody tr th {\n",
       "        vertical-align: top;\n",
       "    }\n",
       "\n",
       "    .dataframe thead th {\n",
       "        text-align: right;\n",
       "    }\n",
       "</style>\n",
       "<table border=\"1\" class=\"dataframe\">\n",
       "  <thead>\n",
       "    <tr style=\"text-align: right;\">\n",
       "      <th></th>\n",
       "      <th>Unnamed_ 0</th>\n",
       "      <th>Category</th>\n",
       "      <th>Group</th>\n",
       "      <th>Name</th>\n",
       "      <th>POI</th>\n",
       "      <th>Place</th>\n",
       "      <th>URL</th>\n",
       "      <th>Host By</th>\n",
       "      <th>Address</th>\n",
       "      <th>Descriptio</th>\n",
       "      <th>...</th>\n",
       "      <th>Long</th>\n",
       "      <th>Date</th>\n",
       "      <th>Start_Time</th>\n",
       "      <th>End_Time</th>\n",
       "      <th>Location</th>\n",
       "      <th>Types</th>\n",
       "      <th>start_ti_1</th>\n",
       "      <th>end_timeRa</th>\n",
       "      <th>weekdays</th>\n",
       "      <th>geometry</th>\n",
       "    </tr>\n",
       "  </thead>\n",
       "  <tbody>\n",
       "    <tr>\n",
       "      <th>0</th>\n",
       "      <td>0</td>\n",
       "      <td>Arts</td>\n",
       "      <td>Art With Intention</td>\n",
       "      <td>Beginners Salsa /Bachata Classes!</td>\n",
       "      <td>2801 Forest Ridge Dr</td>\n",
       "      <td>2801 Forest Ridge Dr · Bedford, TX</td>\n",
       "      <td>https://www.meetup.com/stepup/events/msdlnrybc...</td>\n",
       "      <td>Kane (My Salsa Dance S.</td>\n",
       "      <td>Bedford, TX, us</td>\n",
       "      <td>Mon, Mar 9, 2020, 7:00 PM: Hi Friends,New Clas...</td>\n",
       "      <td>...</td>\n",
       "      <td>-97.144920</td>\n",
       "      <td>2020-03-09</td>\n",
       "      <td>7:00 PM</td>\n",
       "      <td>9:00 PM</td>\n",
       "      <td>32.850032806396484;-97.1449203491211</td>\n",
       "      <td>Weekly events</td>\n",
       "      <td>38</td>\n",
       "      <td>42</td>\n",
       "      <td>0</td>\n",
       "      <td>POINT (268149.806 -1344010.431)</td>\n",
       "    </tr>\n",
       "    <tr>\n",
       "      <th>1</th>\n",
       "      <td>1</td>\n",
       "      <td>Arts</td>\n",
       "      <td>Art With Intention</td>\n",
       "      <td>Beginners Salsa /Bachata Classes!</td>\n",
       "      <td>2801 Forest Ridge Dr</td>\n",
       "      <td>2801 Forest Ridge Dr · Bedford, TX</td>\n",
       "      <td>https://www.meetup.com/stepup/events/msdlnrybc...</td>\n",
       "      <td>Kane (My Salsa Dance S.</td>\n",
       "      <td>Bedford, TX, us</td>\n",
       "      <td>Mon, Mar 16, 2020, 7:00 PM: Hi Friends,New Cla...</td>\n",
       "      <td>...</td>\n",
       "      <td>-97.144920</td>\n",
       "      <td>2020-03-16</td>\n",
       "      <td>7:00 PM</td>\n",
       "      <td>9:00 PM</td>\n",
       "      <td>32.850032806396484;-97.1449203491211</td>\n",
       "      <td>Weekly events</td>\n",
       "      <td>38</td>\n",
       "      <td>42</td>\n",
       "      <td>0</td>\n",
       "      <td>POINT (268149.806 -1344010.431)</td>\n",
       "    </tr>\n",
       "    <tr>\n",
       "      <th>2</th>\n",
       "      <td>2</td>\n",
       "      <td>Arts</td>\n",
       "      <td>Art With Intention</td>\n",
       "      <td>Beginners Salsa /Bachata Classes!</td>\n",
       "      <td>2801 Forest Ridge Dr</td>\n",
       "      <td>2801 Forest Ridge Dr · Bedford, TX</td>\n",
       "      <td>https://www.meetup.com/stepup/events/msdlnrybc...</td>\n",
       "      <td>Kane (My Salsa Dance S.</td>\n",
       "      <td>Bedford, TX, us</td>\n",
       "      <td>Mon, Mar 23, 2020, 7:00 PM: Hi Friends,New Cla...</td>\n",
       "      <td>...</td>\n",
       "      <td>-97.144920</td>\n",
       "      <td>2020-03-23</td>\n",
       "      <td>7:00 PM</td>\n",
       "      <td>9:00 PM</td>\n",
       "      <td>32.850032806396484;-97.1449203491211</td>\n",
       "      <td>Weekly events</td>\n",
       "      <td>38</td>\n",
       "      <td>42</td>\n",
       "      <td>0</td>\n",
       "      <td>POINT (268149.806 -1344010.431)</td>\n",
       "    </tr>\n",
       "    <tr>\n",
       "      <th>3</th>\n",
       "      <td>3</td>\n",
       "      <td>Arts</td>\n",
       "      <td>Art With Intention</td>\n",
       "      <td>Beginners Salsa /Bachata Classes!</td>\n",
       "      <td>2801 Forest Ridge Dr</td>\n",
       "      <td>2801 Forest Ridge Dr · Bedford, TX</td>\n",
       "      <td>https://www.meetup.com/stepup/events/msdlnrybc...</td>\n",
       "      <td>Kane (My Salsa Dance S.</td>\n",
       "      <td>Bedford, TX, us</td>\n",
       "      <td>Mon, Mar 30, 2020, 7:00 PM: Hi Friends,New Cla...</td>\n",
       "      <td>...</td>\n",
       "      <td>-97.144920</td>\n",
       "      <td>2020-03-30</td>\n",
       "      <td>7:00 PM</td>\n",
       "      <td>9:00 PM</td>\n",
       "      <td>32.850032806396484;-97.1449203491211</td>\n",
       "      <td>Weekly events</td>\n",
       "      <td>38</td>\n",
       "      <td>42</td>\n",
       "      <td>0</td>\n",
       "      <td>POINT (268149.806 -1344010.431)</td>\n",
       "    </tr>\n",
       "    <tr>\n",
       "      <th>4</th>\n",
       "      <td>4</td>\n",
       "      <td>Arts</td>\n",
       "      <td>ArtSpace at Metropolitan Press</td>\n",
       "      <td>Metropolitan Press ArtSpace March Reception: Y...</td>\n",
       "      <td>ArtSpace Metropolitan Press</td>\n",
       "      <td>1250 Majesty Drive · Dallas, TX</td>\n",
       "      <td>https://www.meetup.com/ArtSpace-at-Metropolita...</td>\n",
       "      <td>Karen T.</td>\n",
       "      <td>Dallas, TX, us</td>\n",
       "      <td>Thu, Mar 5, 2020, 5:00 PM: Metropolitan?s Marc...</td>\n",
       "      <td>...</td>\n",
       "      <td>-96.876396</td>\n",
       "      <td>2020-03-05</td>\n",
       "      <td>5:00 PM</td>\n",
       "      <td>8:00 PM</td>\n",
       "      <td>32.82609176635742;-96.87639617919922</td>\n",
       "      <td>One Time events</td>\n",
       "      <td>34</td>\n",
       "      <td>40</td>\n",
       "      <td>3</td>\n",
       "      <td>POINT (293442.197 -1345775.544)</td>\n",
       "    </tr>\n",
       "  </tbody>\n",
       "</table>\n",
       "<p>5 rows × 26 columns</p>\n",
       "</div>"
      ],
      "text/plain": [
       "   Unnamed_ 0 Category                           Group  \\\n",
       "0           0     Arts              Art With Intention   \n",
       "1           1     Arts              Art With Intention   \n",
       "2           2     Arts              Art With Intention   \n",
       "3           3     Arts              Art With Intention   \n",
       "4           4     Arts  ArtSpace at Metropolitan Press   \n",
       "\n",
       "                                                Name  \\\n",
       "0                  Beginners Salsa /Bachata Classes!   \n",
       "1                  Beginners Salsa /Bachata Classes!   \n",
       "2                  Beginners Salsa /Bachata Classes!   \n",
       "3                  Beginners Salsa /Bachata Classes!   \n",
       "4  Metropolitan Press ArtSpace March Reception: Y...   \n",
       "\n",
       "                           POI                               Place  \\\n",
       "0         2801 Forest Ridge Dr  2801 Forest Ridge Dr · Bedford, TX   \n",
       "1         2801 Forest Ridge Dr  2801 Forest Ridge Dr · Bedford, TX   \n",
       "2         2801 Forest Ridge Dr  2801 Forest Ridge Dr · Bedford, TX   \n",
       "3         2801 Forest Ridge Dr  2801 Forest Ridge Dr · Bedford, TX   \n",
       "4  ArtSpace Metropolitan Press     1250 Majesty Drive · Dallas, TX   \n",
       "\n",
       "                                                 URL                  Host By  \\\n",
       "0  https://www.meetup.com/stepup/events/msdlnrybc...  Kane (My Salsa Dance S.   \n",
       "1  https://www.meetup.com/stepup/events/msdlnrybc...  Kane (My Salsa Dance S.   \n",
       "2  https://www.meetup.com/stepup/events/msdlnrybc...  Kane (My Salsa Dance S.   \n",
       "3  https://www.meetup.com/stepup/events/msdlnrybc...  Kane (My Salsa Dance S.   \n",
       "4  https://www.meetup.com/ArtSpace-at-Metropolita...                 Karen T.   \n",
       "\n",
       "           Address                                         Descriptio  ...  \\\n",
       "0  Bedford, TX, us  Mon, Mar 9, 2020, 7:00 PM: Hi Friends,New Clas...  ...   \n",
       "1  Bedford, TX, us  Mon, Mar 16, 2020, 7:00 PM: Hi Friends,New Cla...  ...   \n",
       "2  Bedford, TX, us  Mon, Mar 23, 2020, 7:00 PM: Hi Friends,New Cla...  ...   \n",
       "3  Bedford, TX, us  Mon, Mar 30, 2020, 7:00 PM: Hi Friends,New Cla...  ...   \n",
       "4   Dallas, TX, us  Thu, Mar 5, 2020, 5:00 PM: Metropolitan?s Marc...  ...   \n",
       "\n",
       "        Long        Date Start_Time End_Time  \\\n",
       "0 -97.144920  2020-03-09    7:00 PM  9:00 PM   \n",
       "1 -97.144920  2020-03-16    7:00 PM  9:00 PM   \n",
       "2 -97.144920  2020-03-23    7:00 PM  9:00 PM   \n",
       "3 -97.144920  2020-03-30    7:00 PM  9:00 PM   \n",
       "4 -96.876396  2020-03-05    5:00 PM  8:00 PM   \n",
       "\n",
       "                               Location            Types  start_ti_1  \\\n",
       "0  32.850032806396484;-97.1449203491211    Weekly events          38   \n",
       "1  32.850032806396484;-97.1449203491211    Weekly events          38   \n",
       "2  32.850032806396484;-97.1449203491211    Weekly events          38   \n",
       "3  32.850032806396484;-97.1449203491211    Weekly events          38   \n",
       "4  32.82609176635742;-96.87639617919922  One Time events          34   \n",
       "\n",
       "  end_timeRa weekdays                         geometry  \n",
       "0         42        0  POINT (268149.806 -1344010.431)  \n",
       "1         42        0  POINT (268149.806 -1344010.431)  \n",
       "2         42        0  POINT (268149.806 -1344010.431)  \n",
       "3         42        0  POINT (268149.806 -1344010.431)  \n",
       "4         40        3  POINT (293442.197 -1345775.544)  \n",
       "\n",
       "[5 rows x 26 columns]"
      ]
     },
     "execution_count": 25,
     "metadata": {},
     "output_type": "execute_result"
    }
   ],
   "source": [
    "gdf = gpd.read_file(shp_lst[4])\n",
    "gdf.head()"
   ]
  },
  {
   "cell_type": "code",
   "execution_count": 41,
   "metadata": {},
   "outputs": [
    {
     "name": "stdout",
     "output_type": "stream",
     "text": [
      "(8487, 26)\n",
      "(8487, 24)\n"
     ]
    }
   ],
   "source": [
    "print(gdf.shape)\n",
    "print(df.shape)"
   ]
  },
  {
   "cell_type": "code",
   "execution_count": 42,
   "metadata": {},
   "outputs": [
    {
     "data": {
      "text/plain": [
       "Category                                                        Arts\n",
       "Group                                             Art With Intention\n",
       "Name                               Beginners Salsa /Bachata Classes!\n",
       "POI                                             2801 Forest Ridge Dr\n",
       "Place                             2801 Forest Ridge Dr · Bedford, TX\n",
       "URL                https://www.meetup.com/stepup/events/msdlnrybc...\n",
       "Host By                                      Kane (My Salsa Dance S.\n",
       "Address                                              Bedford, TX, us\n",
       "Description        Mon, Mar 9, 2020, 7:00 PM: Hi Friends,New Clas...\n",
       "Key Words          Musicians,Artists,Performing Arts,Models,Songw...\n",
       "Hold Date                    Monday, March 9, 20207:00 PM to 9:00 PM\n",
       "Cover_Photo        https://secure.meetupstatic.com/photos/event/c...\n",
       "Google Map         https://www.google.com/maps/search/?api=1&quer...\n",
       "Detail             Hi Friends,\\nNew Class Schedule!\\nMONDAYS:\\nBe...\n",
       "Lat                                                            32.85\n",
       "Long                                                        -97.1449\n",
       "Date                                             2020-03-09 00:00:00\n",
       "Start_Time                                                  7:00 PM \n",
       "End_Time                                                     9:00 PM\n",
       "Location                        32.850032806396484;-97.1449203491211\n",
       "Types                                                  Weekly events\n",
       "start_timeRange                                                   38\n",
       "end_timeRange                                                     42\n",
       "weekdays                                                           0\n",
       "Name: 0, dtype: object"
      ]
     },
     "execution_count": 42,
     "metadata": {},
     "output_type": "execute_result"
    }
   ],
   "source": [
    "df.loc[0]"
   ]
  },
  {
   "cell_type": "markdown",
   "metadata": {},
   "source": [
    "### Read the Zillow neighbors"
   ]
  },
  {
   "cell_type": "code",
   "execution_count": 30,
   "metadata": {},
   "outputs": [
    {
     "name": "stdout",
     "output_type": "stream",
     "text": [
      "Zillow_neighbors epsg:4326\n",
      "Social-Events epsg:2163\n"
     ]
    }
   ],
   "source": [
    "zillow_neighbors = '../Shapefile/Zillow/Dallas_Neighborhoods.shp'\n",
    "zillow_gdf = gpd.read_file(zillow_neighbors)\n",
    "print('Zillow_neighbors', zillow_gdf.crs)\n",
    "print('Social-Events', gdf.crs)"
   ]
  },
  {
   "cell_type": "markdown",
   "metadata": {},
   "source": [
    "**Transfer Projection**"
   ]
  },
  {
   "cell_type": "code",
   "execution_count": 31,
   "metadata": {},
   "outputs": [
    {
     "name": "stdout",
     "output_type": "stream",
     "text": [
      "Zillow_neighbors epsg:2163\n",
      "Social-Events epsg:2163\n"
     ]
    }
   ],
   "source": [
    "zillow_gdf = zillow_gdf.to_crs(epsg=2163)\n",
    "print('Zillow_neighbors', zillow_gdf.crs)\n",
    "print('Social-Events', gdf.crs)"
   ]
  },
  {
   "cell_type": "code",
   "execution_count": 34,
   "metadata": {},
   "outputs": [
    {
     "data": {
      "image/png": "[encoded data removed]",
      "text/plain": [
       "<Figure size 1152x864 with 1 Axes>"
      ]
     },
     "metadata": {
      "needs_background": "light"
     },
     "output_type": "display_data"
    }
   ],
   "source": [
    "fig, ax = plt.subplots(figsize=(16, 12))\n",
    "zillow_gdf.plot(cmap='Greys',edgecolor=\"black\",ax=ax,alpha=.5)\n",
    "gdf.plot(label = 'Category',ax=ax)\n",
    "plt.axis('equal')\n",
    "plt.show()"
   ]
  },
  {
   "cell_type": "code",
   "execution_count": null,
   "metadata": {},
   "outputs": [],
   "source": []
  }
 ],
 "metadata": {
  "kernelspec": {
   "display_name": "Python (geopandas)",
   "language": "python",
   "name": "gpd"
  },
  "language_info": {
   "codemirror_mode": {
    "name": "ipython",
    "version": 3
   },
   "file_extension": ".py",
   "mimetype": "text/x-python",
   "name": "python",
   "nbconvert_exporter": "python",
   "pygments_lexer": "ipython3",
   "version": "3.8.5"
  },
  "toc": {
   "base_numbering": 1,
   "nav_menu": {},
   "number_sections": true,
   "sideBar": true,
   "skip_h1_title": true,
   "title_cell": "Table of Contents",
   "title_sidebar": "Contents",
   "toc_cell": true,
   "toc_position": {},
   "toc_section_display": true,
   "toc_window_display": true
  }
 },
 "nbformat": 4,
 "nbformat_minor": 4
}